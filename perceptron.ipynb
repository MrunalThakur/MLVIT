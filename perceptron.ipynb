{
 "cells": [
  {
   "cell_type": "markdown",
   "metadata": {},
   "source": [
    "# Perceptron"
   ]
  },
  {
   "cell_type": "code",
   "execution_count": 1,
   "metadata": {},
   "outputs": [],
   "source": [
    "def perceptron(x1,x2,y,w1,w2,b,lr):\n",
    "    print(\"__________\")\n",
    "    for i in range(len(y)):\n",
    "        yn = x1[i]*w1 + x2[i]*w2 + b\n",
    "        if(yn>0):\n",
    "            output = 1\n",
    "        elif(yn<0):\n",
    "            output = -1\n",
    "        else: output = 0\n",
    "        print(\"__________\")\n",
    "        print(\"input \",i+1)\n",
    "        print(\"yn =\",yn)\n",
    "        print(\"Output =\",output)\n",
    "        w1 += lr * x1[i]*(y[i] - output)\n",
    "        w2 += lr * x2[i]*(y[i] - output)\n",
    "        b += lr*y[i]\n",
    "        print(\"w1= \",w1)\n",
    "        print(\"w2= \",w2)\n",
    "        print(\"b= \",b)\n",
    "        print(\"__________\")"
   ]
  },
  {
   "cell_type": "code",
   "execution_count": 2,
   "metadata": {},
   "outputs": [
    {
     "name": "stdout",
     "output_type": "stream",
     "text": [
      "__________\n",
      "__________\n",
      "input  1\n",
      "yn = 0\n",
      "Output = 0\n",
      "w1=  1\n",
      "w2=  1\n",
      "b=  1\n",
      "__________\n",
      "__________\n",
      "input  2\n",
      "yn = 1\n",
      "Output = 1\n",
      "w1=  -1\n",
      "w2=  3\n",
      "b=  0\n",
      "__________\n",
      "__________\n",
      "input  3\n",
      "yn = 4\n",
      "Output = 1\n",
      "w1=  1\n",
      "w2=  1\n",
      "b=  -1\n",
      "__________\n",
      "__________\n",
      "input  4\n",
      "yn = -3\n",
      "Output = -1\n",
      "w1=  1\n",
      "w2=  1\n",
      "b=  -2\n",
      "__________\n"
     ]
    }
   ],
   "source": [
    "# AND Gate\n",
    "x1 = [1,1,-1,-1]\n",
    "x2 = [1,-1,1,-1]\n",
    "y = [1,-1,-1,-1]\n",
    "w1 = w2 = 0\n",
    "b= 0\n",
    "lr = 1\n",
    "perceptron(x1,x2,y,w1,w2,b,lr)"
   ]
  },
  {
   "cell_type": "code",
   "execution_count": 3,
   "metadata": {},
   "outputs": [
    {
     "name": "stdout",
     "output_type": "stream",
     "text": [
      "__________\n",
      "__________\n",
      "input  1\n",
      "yn = 0\n",
      "Output = 0\n",
      "w1=  0\n",
      "w2=  0\n",
      "b=  0\n",
      "__________\n",
      "__________\n",
      "input  2\n",
      "yn = 0\n",
      "Output = 0\n",
      "w1=  0\n",
      "w2=  1\n",
      "b=  1\n",
      "__________\n",
      "__________\n",
      "input  3\n",
      "yn = 1\n",
      "Output = 1\n",
      "w1=  0\n",
      "w2=  1\n",
      "b=  2\n",
      "__________\n",
      "__________\n",
      "input  4\n",
      "yn = 3\n",
      "Output = 1\n",
      "w1=  0\n",
      "w2=  1\n",
      "b=  3\n",
      "__________\n"
     ]
    }
   ],
   "source": [
    "# OR Gate\n",
    "\n",
    "x1 = [0,0,1,1]\n",
    "x2 = [0,1,0,1]\n",
    "y = [0,1,1,1]\n",
    "w1 = w2 = 0\n",
    "b= 0\n",
    "lr = 1\n",
    "perceptron(x1,x2,y,w1,w2,b,lr)"
   ]
  },
  {
   "cell_type": "code",
   "execution_count": null,
   "metadata": {},
   "outputs": [],
   "source": []
  },
  {
   "cell_type": "code",
   "execution_count": null,
   "metadata": {},
   "outputs": [],
   "source": []
  }
 ],
 "metadata": {
  "interpreter": {
   "hash": "3531d69df9220a7a2aacb3abfba15e66becf1f5e76b06d2e75ef6d90b64a206c"
  },
  "kernelspec": {
   "display_name": "Python 3.9.7 ('dl')",
   "language": "python",
   "name": "python3"
  },
  "language_info": {
   "codemirror_mode": {
    "name": "ipython",
    "version": 3
   },
   "file_extension": ".py",
   "mimetype": "text/x-python",
   "name": "python",
   "nbconvert_exporter": "python",
   "pygments_lexer": "ipython3",
   "version": "3.9.7"
  },
  "orig_nbformat": 4
 },
 "nbformat": 4,
 "nbformat_minor": 2
}
