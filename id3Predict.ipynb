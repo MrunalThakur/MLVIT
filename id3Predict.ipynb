{
 "cells": [
  {
   "cell_type": "code",
   "execution_count": 4,
   "metadata": {},
   "outputs": [],
   "source": [
    "from id3 import GadId3Classifier as gid3\n",
    "import pandas as pd\n",
    "import numpy as np\n",
    "from sklearn.model_selection import train_test_split\n",
    "from sklearn.metrics import accuracy_score\n"
   ]
  },
  {
   "cell_type": "code",
   "execution_count": 9,
   "metadata": {},
   "outputs": [
    {
     "data": {
      "text/plain": [
       "0.7333333333333333"
      ]
     },
     "execution_count": 9,
     "metadata": {},
     "output_type": "execute_result"
    }
   ],
   "source": [
    "\n",
    "\n",
    "data_url = \"https://archive.ics.uci.edu/ml/machine-learning-databases/heart-disease/processed.cleveland.data\"\n",
    "df = pd.read_csv(data_url, header=None)\n",
    "\n",
    "# rename known columns\n",
    "columns = ['age', 'sex', 'cp', 'trestbps', 'chol', 'fbs', 'restecg',\n",
    "           'thalach', 'exang', 'oldpeak', 'slope', 'ca', 'thal', 'disease_present']\n",
    "df.columns = columns\n",
    "\n",
    "# convert disease_present feature to binary\n",
    "df['disease_present'] = df.disease_present.replace([1,2,3,4], 1)\n",
    "\n",
    "# drop rows with missing values, missing = ?\n",
    "df = df.replace(\"?\", np.nan)\n",
    "df = df.dropna()\n",
    "\n",
    "# organize data into input and output\n",
    "X = df.drop(columns=\"disease_present\")\n",
    "y = df[\"disease_present\"]\n",
    "\n",
    "X_train, X_test, y_train, y_test = train_test_split(X, y, test_size=0.1)\n",
    "\n",
    "# initialize and fit model\n",
    "model = gid3()\n",
    "model.fit(X_train, y_train)\n",
    "\n",
    "# return accuracy score\n",
    "y_pred = model.predict(X_test)\n",
    "accuracy_score(y_test, y_pred)\n",
    "\n"
   ]
  },
  {
   "cell_type": "code",
   "execution_count": null,
   "metadata": {},
   "outputs": [],
   "source": []
  }
 ],
 "metadata": {
  "interpreter": {
   "hash": "3531d69df9220a7a2aacb3abfba15e66becf1f5e76b06d2e75ef6d90b64a206c"
  },
  "kernelspec": {
   "display_name": "Python 3.9.7 ('dl')",
   "language": "python",
   "name": "python3"
  },
  "language_info": {
   "codemirror_mode": {
    "name": "ipython",
    "version": 3
   },
   "file_extension": ".py",
   "mimetype": "text/x-python",
   "name": "python",
   "nbconvert_exporter": "python",
   "pygments_lexer": "ipython3",
   "version": "3.9.7"
  },
  "orig_nbformat": 4
 },
 "nbformat": 4,
 "nbformat_minor": 2
}
