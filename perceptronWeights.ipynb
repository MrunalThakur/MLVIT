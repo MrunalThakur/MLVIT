{
 "cells": [
  {
   "cell_type": "code",
   "execution_count": 24,
   "metadata": {},
   "outputs": [],
   "source": [
    "import numpy as np\n"
   ]
  },
  {
   "cell_type": "code",
   "execution_count": 30,
   "metadata": {},
   "outputs": [],
   "source": [
    "# AND Gate\n",
    "#y= x1+x2-1\n",
    "x1 = 0.35\n",
    "x2 = 0.9\n",
    "w13 = 0.1\n",
    "w14 = 0.4\n",
    "w23 = 0.8\n",
    "w24= 0.6\n",
    "w35 = 0.3\n",
    "w45= 0.9\n",
    "lr =1"
   ]
  },
  {
   "cell_type": "code",
   "execution_count": 33,
   "metadata": {},
   "outputs": [],
   "source": [
    "def perceptron(x1,x2,w13,w14,w23,w24,w35,w45,lr):\n",
    "    print(\"__________\")\n",
    "    h3 = 1/(1+np.exp(-(w13*x1 + w23*x2)))\n",
    "    h4 = 1/(1+np.exp(-(w14*x1 + w24*x2)))\n",
    "    y5= 1/(1+np.exp(-(h3*w35 + h4*w45)))\n",
    "    print(\"h3=\",round(h3,2),\"h4=\",round(h4,2),\"y5=\",round(y5,2))\n",
    "    d5 = y5*(1-y5)*(0.5-y5)\n",
    "    d3 = h3*(1-h3)*w35*y5\n",
    "    d4 = h4*(1-h4)*w45*y5\n",
    "    w45= lr*d4*h4\n",
    "    w35 = lr*d3*h3\n",
    "    w24= lr*d4*x2\n",
    "    w23 = lr*d3*x2\n",
    "    w14 = lr*d3*x1\n",
    "    w13 = lr*d4*x1\n",
    "    print(\"w13=\",round(w13,2),\"w23=\",round(w23,2),\"w14=\",round(w14,2),\"w24=\",round(w24,2),\"w35=\",round(w35,2),\n",
    "            \"w45=\",round(w45,2))"
   ]
  },
  {
   "cell_type": "code",
   "execution_count": 34,
   "metadata": {},
   "outputs": [
    {
     "name": "stdout",
     "output_type": "stream",
     "text": [
      "__________\n",
      "h3= 0.68 h4= 0.66 y5= 0.69\n",
      "w13= 0.05 w23= 0.04 w14= 0.02 w24= 0.12 w35= 0.03 w45= 0.09\n"
     ]
    }
   ],
   "source": [
    "perceptron(x1,x2,w13,w14,w23,w24,w35,w45,lr)"
   ]
  },
  {
   "cell_type": "code",
   "execution_count": 42,
   "metadata": {},
   "outputs": [
    {
     "name": "stdout",
     "output_type": "stream",
     "text": [
      "140087668673968\n",
      "140087668673968\n",
      "140087069584752\n"
     ]
    }
   ],
   "source": [
    "x = \"str\"\n",
    "print(id(x))\n",
    "y = \"str\"\n",
    "print(id(y))\n",
    "y = \"str2\"\n",
    "print(id(y))"
   ]
  },
  {
   "cell_type": "code",
   "execution_count": 43,
   "metadata": {},
   "outputs": [
    {
     "data": {
      "text/plain": [
       "48"
      ]
     },
     "execution_count": 43,
     "metadata": {},
     "output_type": "execute_result"
    }
   ],
   "source": [
    "def func():"
   ]
  },
  {
   "cell_type": "code",
   "execution_count": 44,
   "metadata": {},
   "outputs": [
    {
     "ename": "TypeError",
     "evalue": "can't multiply sequence by non-int of type 'str'",
     "output_type": "error",
     "traceback": [
      "\u001b[0;31m---------------------------------------------------------------------------\u001b[0m",
      "\u001b[0;31mTypeError\u001b[0m                                 Traceback (most recent call last)",
      "\u001b[1;32m/home/maliciousbrew/UVITCode/MLTechniques/perceptronWeights.ipynb Cell 7'\u001b[0m in \u001b[0;36m<cell line: 1>\u001b[0;34m()\u001b[0m\n\u001b[0;32m----> <a href='vscode-notebook-cell:/home/maliciousbrew/UVITCode/MLTechniques/perceptronWeights.ipynb#ch0000010?line=0'>1</a>\u001b[0m z \u001b[39m=\u001b[39m x\u001b[39m*\u001b[39;49my \u001b[39m-\u001b[39m (x\u001b[39m-\u001b[39my)\n",
      "\u001b[0;31mTypeError\u001b[0m: can't multiply sequence by non-int of type 'str'"
     ]
    }
   ],
   "source": [
    "z = x*y - (x-y)"
   ]
  },
  {
   "cell_type": "code",
   "execution_count": null,
   "metadata": {},
   "outputs": [],
   "source": []
  }
 ],
 "metadata": {
  "language_info": {
   "name": "python"
  },
  "orig_nbformat": 4
 },
 "nbformat": 4,
 "nbformat_minor": 2
}
